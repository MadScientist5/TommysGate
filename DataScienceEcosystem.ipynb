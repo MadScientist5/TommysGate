{
 "cells": [
  {
   "cell_type": "markdown",
   "id": "4a458efd-ae9c-445b-a2ee-7ea5548a48f7",
   "metadata": {},
   "source": [
    "# Data Science Tools and Ecosystem\n"
   ]
  },
  {
   "cell_type": "markdown",
   "id": "f381154a-bed9-44cc-b9d1-de05e66e7608",
   "metadata": {},
   "source": [
    "In this notebook, Data Science Tools and Ecosystem are summarized.\n"
   ]
  },
  {
   "cell_type": "markdown",
   "id": "fa00f96f-7302-4662-a3b8-2b7e009ac4f7",
   "metadata": {},
   "source": [
    "**Objectives:**\n",
    "\n",
    "- List popular languages for Data Science \n",
    "- Introduction of commonly used tools for Data Science\n",
    "- Examples of arithmetic expressions in Python"
   ]
  },
  {
   "cell_type": "markdown",
   "id": "5fafa9a8-6946-4f50-8254-267174343026",
   "metadata": {},
   "source": [
    "Some of the popular languages that Data Scientists use are:\n",
    "\n",
    "1. Python\n",
    "2. R\n",
    "3. SQL"
   ]
  },
  {
   "cell_type": "markdown",
   "id": "edf9af0f-52a4-4bbd-b531-07fec93f0756",
   "metadata": {},
   "source": [
    "Some of the commonly used libraries used by Data Scientists include:\n",
    "\n",
    "1. NumPy\n",
    "2. Pandas\n",
    "3. Scikit-learn\n",
    "4. Seaborn"
   ]
  },
  {
   "cell_type": "markdown",
   "id": "ee4d2790-7427-4f73-a521-513344e1b537",
   "metadata": {},
   "source": [
    "| Data Science Tools |\n",
    "|--------------------|\n",
    "| Hadoop             |\n",
    "| RStudio            |\n",
    "| Jupyter Notebook   |"
   ]
  },
  {
   "cell_type": "markdown",
   "id": "46e56e05-6f9f-4798-ab27-1dcecfb46dd9",
   "metadata": {},
   "source": [
    "### Below are a few examples of evaluating arithmetic expressions in Python"
   ]
  },
  {
   "cell_type": "code",
   "execution_count": 4,
   "id": "6bb4bb20-66d7-4e14-95c5-29e58c1cf3e6",
   "metadata": {},
   "outputs": [
    {
     "data": {
      "text/plain": [
       "17"
      ]
     },
     "execution_count": 4,
     "metadata": {},
     "output_type": "execute_result"
    }
   ],
   "source": [
    "#This a simple arithmetic expression to mutiply then add integers\n",
    "(3*4)+5\n"
   ]
  },
  {
   "cell_type": "code",
   "execution_count": 5,
   "id": "c6b1b2df-3077-4fdd-a3df-4568d77362e1",
   "metadata": {},
   "outputs": [
    {
     "data": {
      "text/plain": [
       "3.3333333333333335"
      ]
     },
     "execution_count": 5,
     "metadata": {},
     "output_type": "execute_result"
    }
   ],
   "source": [
    "#This will convert 200 minutes to hours by diving by 60\n",
    "200 / 60 "
   ]
  },
  {
   "cell_type": "markdown",
   "id": "b14c669f-4519-4be7-91e3-efa76010e43f",
   "metadata": {},
   "source": [
    "## Author\n",
    "Thomas Mantzoukas"
   ]
  }
 ],
 "metadata": {
  "kernelspec": {
   "display_name": "Python 3 (ipykernel)",
   "language": "python",
   "name": "python3"
  },
  "language_info": {
   "codemirror_mode": {
    "name": "ipython",
    "version": 3
   },
   "file_extension": ".py",
   "mimetype": "text/x-python",
   "name": "python",
   "nbconvert_exporter": "python",
   "pygments_lexer": "ipython3",
   "version": "3.11.9"
  }
 },
 "nbformat": 4,
 "nbformat_minor": 5
}
